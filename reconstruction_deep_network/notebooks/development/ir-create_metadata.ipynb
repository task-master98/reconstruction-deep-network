{
 "cells": [
  {
   "cell_type": "markdown",
   "id": "511b4f4a-d8a0-44bc-95d7-38b719710e59",
   "metadata": {},
   "source": [
    "## **Metadata Creation**\n",
    "This notebook will be used to create the metadata files for training and validation on the reduced dataset"
   ]
  },
  {
   "cell_type": "code",
   "execution_count": 1,
   "id": "87f28df4-0070-45b8-9f74-b35f4a71e058",
   "metadata": {},
   "outputs": [],
   "source": [
    "import sys\n",
    "sys.path.append(\"/home/jupyter-group3/reconstruction/reconstruction-deep-network\")"
   ]
  },
  {
   "cell_type": "code",
   "execution_count": 2,
   "id": "2eac939e-8ba4-4d14-88d9-1486721bca4f",
   "metadata": {},
   "outputs": [],
   "source": [
    "import numpy as np\n",
    "import os\n",
    "import torch \n",
    "\n",
    "import reconstruction_deep_network\n",
    "from reconstruction_deep_network.data_loader.custom_loader import CustomDataLoader\n"
   ]
  },
  {
   "cell_type": "code",
   "execution_count": 3,
   "id": "0f334c98-b4f4-4aa5-b4d3-f3ef241dadfd",
   "metadata": {},
   "outputs": [],
   "source": [
    "module_path = reconstruction_deep_network.__path__[0]\n",
    "root_dir = os.path.dirname(module_path)\n",
    "data_path = os.path.join(root_dir, \"data\", \"v1\")\n",
    "scans_dir = os.path.join(data_path, \"scans\")\n",
    "all_scans = [scan for scan in os.listdir(scans_dir) if not scan.endswith(\".ipynb_checkpoints\")]"
   ]
  },
  {
   "cell_type": "code",
   "execution_count": 4,
   "id": "9df6b25f-2e2f-4696-bbf2-b49e38cbe21f",
   "metadata": {},
   "outputs": [
    {
     "data": {
      "text/plain": [
       "['8WUmhLawc2A',\n",
       " '29hnd4uzFmX',\n",
       " 'EDJbREhghzL',\n",
       " 'EU6Fwq7SyZv',\n",
       " 'D7N2EKCX4Sj',\n",
       " 'dhjEzFoUFzH',\n",
       " 'e9zR4mvMWw7',\n",
       " '1pXnuDYAj8r',\n",
       " 'E9uDoFAP3SH',\n",
       " 'ARNzJeq3xxb',\n",
       " '8194nk5LbLH',\n",
       " 'b8cTxDM8gDG',\n",
       " 'B6ByNegPMKs',\n",
       " '2azQ1b91cZZ',\n",
       " '2t7WUuJeko7',\n",
       " 'fzynW3qQPVF',\n",
       " '1LXtFkjw3qL',\n",
       " '5ZKStnWn8Zo',\n",
       " '5LpN3gDmAk7',\n",
       " '17DRP5sb8fy',\n",
       " '759xd9YjKW5',\n",
       " 'ac26ZMwG7aT',\n",
       " '7y3sRwLe3Va',\n",
       " 'D7G3Y4RVNrH',\n",
       " 'aayBHfsNo7d',\n",
       " 'cV4RVeZvu5T',\n",
       " 'GdvgFV5R1Z5',\n",
       " '5q7pvUzZiYa',\n",
       " '2n8kARJN3HM',\n",
       " '82sE5b5pLXE']"
      ]
     },
     "execution_count": 4,
     "metadata": {},
     "output_type": "execute_result"
    }
   ],
   "source": [
    "all_scans"
   ]
  },
  {
   "cell_type": "code",
   "execution_count": 5,
   "id": "3880df40-19dd-4a3f-bc4b-d79eae6bfc15",
   "metadata": {},
   "outputs": [],
   "source": [
    "dataset = CustomDataLoader(mode = \"train\", debug = False)"
   ]
  },
  {
   "cell_type": "code",
   "execution_count": 6,
   "id": "28809000-c8d6-4d27-a1b8-343d551b0966",
   "metadata": {},
   "outputs": [
    {
     "name": "stdout",
     "output_type": "stream",
     "text": [
      "Length of metadata: 9820\n"
     ]
    }
   ],
   "source": [
    "metadata_file = dataset.metadata\n",
    "print(f\"Length of metadata: {len(metadata_file)}\")"
   ]
  },
  {
   "cell_type": "code",
   "execution_count": 7,
   "id": "f0dfdb7b-56f0-496b-a733-d17d679274b3",
   "metadata": {},
   "outputs": [
    {
     "name": "stdout",
     "output_type": "stream",
     "text": [
      "Length of metadata: 9820\n"
     ]
    }
   ],
   "source": [
    "def find_scan_id(file_name: str):\n",
    "    scan_id = file_name.split(\"/\")[0]\n",
    "    return scan_id\n",
    "metadata_tuples = [(find_scan_id(file_list[0]), file_list) for file_list in metadata_file]\n",
    "print(f\"Length of metadata: {len(metadata_tuples)}\")"
   ]
  },
  {
   "cell_type": "code",
   "execution_count": 8,
   "id": "426c72d2-ca08-4c42-b674-a81a36b9897f",
   "metadata": {},
   "outputs": [
    {
     "data": {
      "text/plain": [
       "('sT4fr6TAbpF',\n",
       " ['sT4fr6TAbpF/matterport_skybox_images/7d41ce8de085471f9d97bbff6b0c1831_skybox0_sami.jpg',\n",
       "  'sT4fr6TAbpF/matterport_skybox_images/7d41ce8de085471f9d97bbff6b0c1831_skybox1_sami.jpg',\n",
       "  'sT4fr6TAbpF/matterport_skybox_images/7d41ce8de085471f9d97bbff6b0c1831_skybox2_sami.jpg',\n",
       "  'sT4fr6TAbpF/matterport_skybox_images/7d41ce8de085471f9d97bbff6b0c1831_skybox3_sami.jpg',\n",
       "  'sT4fr6TAbpF/matterport_skybox_images/7d41ce8de085471f9d97bbff6b0c1831_skybox4_sami.jpg',\n",
       "  'sT4fr6TAbpF/matterport_skybox_images/7d41ce8de085471f9d97bbff6b0c1831_skybox5_sami.jpg'])"
      ]
     },
     "execution_count": 8,
     "metadata": {},
     "output_type": "execute_result"
    }
   ],
   "source": [
    "metadata_tuples[-1]"
   ]
  },
  {
   "cell_type": "code",
   "execution_count": 9,
   "id": "089dc83f-86a7-4193-9709-8966108b3d8c",
   "metadata": {},
   "outputs": [],
   "source": [
    "reduced_metadata = [metadata_tuple[1] for metadata_tuple in metadata_tuples if metadata_tuple[0] in all_scans]"
   ]
  },
  {
   "cell_type": "code",
   "execution_count": 10,
   "id": "aac6680c-7dc0-416a-90b5-e5295d5cf176",
   "metadata": {},
   "outputs": [
    {
     "name": "stdout",
     "output_type": "stream",
     "text": [
      "Length of reduced metadata: 3781\n"
     ]
    }
   ],
   "source": [
    "print(f\"Length of reduced metadata: {len(reduced_metadata)}\")"
   ]
  },
  {
   "cell_type": "code",
   "execution_count": 11,
   "id": "a77ccff5-d761-48be-9a4f-aa8c8029a162",
   "metadata": {},
   "outputs": [],
   "source": [
    "# save reduced dataset\n",
    "reduced_file_name = os.path.join(module_path, \"data_loader\", \"reduced.npy\")\n",
    "with open(reduced_file_name, 'wb') as f:\n",
    "    np.save(f, reduced_metadata)"
   ]
  },
  {
   "cell_type": "markdown",
   "id": "9728a58d-1742-4c15-9201-71c8a907587d",
   "metadata": {},
   "source": [
    "## **Split into Train and Validation**"
   ]
  },
  {
   "cell_type": "code",
   "execution_count": 12,
   "id": "cbd6ebd4-d935-49a7-a502-21d503f40792",
   "metadata": {},
   "outputs": [],
   "source": [
    "# seed random values\n",
    "np.random.seed(42)"
   ]
  },
  {
   "cell_type": "code",
   "execution_count": 13,
   "id": "01a031c0-17f6-4451-82aa-00b0c8da27b9",
   "metadata": {},
   "outputs": [
    {
     "data": {
      "text/plain": [
       "3780"
      ]
     },
     "execution_count": 13,
     "metadata": {},
     "output_type": "execute_result"
    }
   ],
   "source": [
    "index_list = np.arange(len(reduced_metadata))\n",
    "index_list.max()"
   ]
  },
  {
   "cell_type": "code",
   "execution_count": 14,
   "id": "8d67e214-e9d9-41a4-bda9-fec1481db427",
   "metadata": {},
   "outputs": [
    {
     "name": "stdout",
     "output_type": "stream",
     "text": [
      "Number of scans: 30\n"
     ]
    }
   ],
   "source": [
    "print(f\"Number of scans: {len(all_scans)}\")"
   ]
  },
  {
   "cell_type": "code",
   "execution_count": 15,
   "id": "e5e3b5bc-f22a-467c-8e8e-9d2957ea90b1",
   "metadata": {},
   "outputs": [],
   "source": [
    "n_train_scans = 27\n",
    "n_val_scans = 3\n",
    "\n",
    "choice_array = np.array(all_scans)\n",
    "train_scans = np.random.choice(choice_array, n_train_scans, replace=False).tolist()\n",
    "choice_list = choice_array.tolist()\n",
    "val_scans = list(set(choice_list) - set(train_scans))"
   ]
  },
  {
   "cell_type": "code",
   "execution_count": 16,
   "id": "1723c2c3-1e3e-468d-b096-bd3c8c1a06d1",
   "metadata": {},
   "outputs": [
    {
     "data": {
      "text/plain": [
       "['5q7pvUzZiYa',\n",
       " 'fzynW3qQPVF',\n",
       " 'D7G3Y4RVNrH',\n",
       " '5ZKStnWn8Zo',\n",
       " 'E9uDoFAP3SH',\n",
       " 'ARNzJeq3xxb',\n",
       " '2n8kARJN3HM',\n",
       " 'aayBHfsNo7d',\n",
       " 'B6ByNegPMKs',\n",
       " '8WUmhLawc2A',\n",
       " 'D7N2EKCX4Sj',\n",
       " '1LXtFkjw3qL',\n",
       " 'dhjEzFoUFzH',\n",
       " '2azQ1b91cZZ',\n",
       " 'b8cTxDM8gDG',\n",
       " '7y3sRwLe3Va',\n",
       " '29hnd4uzFmX',\n",
       " 'EDJbREhghzL',\n",
       " 'cV4RVeZvu5T',\n",
       " 'EU6Fwq7SyZv',\n",
       " 'ac26ZMwG7aT',\n",
       " 'GdvgFV5R1Z5',\n",
       " '5LpN3gDmAk7',\n",
       " '82sE5b5pLXE',\n",
       " '759xd9YjKW5',\n",
       " '1pXnuDYAj8r',\n",
       " '8194nk5LbLH']"
      ]
     },
     "execution_count": 16,
     "metadata": {},
     "output_type": "execute_result"
    }
   ],
   "source": [
    "train_scans"
   ]
  },
  {
   "cell_type": "code",
   "execution_count": 17,
   "id": "3cd5fa94-5253-48dd-958c-8c3f12f80fe7",
   "metadata": {},
   "outputs": [
    {
     "data": {
      "text/plain": [
       "['e9zR4mvMWw7', '2t7WUuJeko7', '17DRP5sb8fy']"
      ]
     },
     "execution_count": 17,
     "metadata": {},
     "output_type": "execute_result"
    }
   ],
   "source": [
    "val_scans"
   ]
  },
  {
   "cell_type": "code",
   "execution_count": 18,
   "id": "7fec95a7-2283-4a61-81d9-45875bb27f48",
   "metadata": {},
   "outputs": [
    {
     "name": "stdout",
     "output_type": "stream",
     "text": [
      "set()\n"
     ]
    }
   ],
   "source": [
    "## verify intersection\n",
    "train_set = set(train_scans)\n",
    "val_set = set(val_scans)\n",
    "\n",
    "intersection = train_set.intersection(val_set)\n",
    "print(intersection)"
   ]
  },
  {
   "cell_type": "code",
   "execution_count": 19,
   "id": "f6318002-ea25-4c3b-afa3-d0bc333ff5c1",
   "metadata": {},
   "outputs": [],
   "source": [
    "train_dataset = [metadata_tuple[1] for metadata_tuple in metadata_tuples if metadata_tuple[0] in train_scans]\n",
    "val_dataset = [metadata_tuple[1] for metadata_tuple in metadata_tuples if metadata_tuple[0] in val_scans]"
   ]
  },
  {
   "cell_type": "code",
   "execution_count": 20,
   "id": "85a0a450-0009-4385-909b-1e9fb75fda55",
   "metadata": {},
   "outputs": [
    {
     "name": "stdout",
     "output_type": "stream",
     "text": [
      "Length of train dataset: 3605\n",
      "Length of val dataset: 176\n"
     ]
    }
   ],
   "source": [
    "print(f\"Length of train dataset: {len(train_dataset)}\")\n",
    "print(f\"Length of val dataset: {len(val_dataset)}\")"
   ]
  },
  {
   "cell_type": "code",
   "execution_count": 21,
   "id": "6472fff2-2b5a-4393-8425-af559415ab40",
   "metadata": {},
   "outputs": [
    {
     "data": {
      "text/plain": [
       "['e9zR4mvMWw7/matterport_skybox_images/fa7122ef2199445485623708ea54d018_skybox0_sami.jpg',\n",
       " 'e9zR4mvMWw7/matterport_skybox_images/fa7122ef2199445485623708ea54d018_skybox1_sami.jpg',\n",
       " 'e9zR4mvMWw7/matterport_skybox_images/fa7122ef2199445485623708ea54d018_skybox2_sami.jpg',\n",
       " 'e9zR4mvMWw7/matterport_skybox_images/fa7122ef2199445485623708ea54d018_skybox3_sami.jpg',\n",
       " 'e9zR4mvMWw7/matterport_skybox_images/fa7122ef2199445485623708ea54d018_skybox4_sami.jpg',\n",
       " 'e9zR4mvMWw7/matterport_skybox_images/fa7122ef2199445485623708ea54d018_skybox5_sami.jpg']"
      ]
     },
     "execution_count": 21,
     "metadata": {},
     "output_type": "execute_result"
    }
   ],
   "source": [
    "val_dataset[-1]"
   ]
  },
  {
   "cell_type": "code",
   "execution_count": 22,
   "id": "3e1455e1-d348-4e86-9d55-ea8d08964eff",
   "metadata": {},
   "outputs": [],
   "source": [
    "## save dataset\n",
    "train_set_file_name = os.path.join(module_path, \"data_loader\", \"ir-20231129-train-split.npy\")\n",
    "with open(train_set_file_name, 'wb') as f:\n",
    "    np.save(f, train_dataset)\n",
    "\n",
    "val_set_file_name = os.path.join(module_path, \"data_loader\", \"ir-20231129-val-split.npy\")\n",
    "with open(val_set_file_name, 'wb') as f:\n",
    "    np.save(f, val_dataset)"
   ]
  },
  {
   "cell_type": "code",
   "execution_count": 23,
   "id": "7b93baac-bf99-4359-92fd-04457002e628",
   "metadata": {},
   "outputs": [
    {
     "name": "stdout",
     "output_type": "stream",
     "text": [
      "Train: 3605\n",
      "Val: 176\n"
     ]
    }
   ],
   "source": [
    "## load to verify\n",
    "tr_set = np.load(train_set_file_name).astype(str)\n",
    "vl_set = np.load(val_set_file_name).astype(str)\n",
    "\n",
    "print(f\"Train: {len(tr_set)}\")\n",
    "print(f\"Val: {len(vl_set)}\")"
   ]
  },
  {
   "cell_type": "code",
   "execution_count": null,
   "id": "0787f9cb-f803-4b55-acc6-6761a02292b7",
   "metadata": {},
   "outputs": [],
   "source": []
  }
 ],
 "metadata": {
  "kernelspec": {
   "display_name": "venv-kernel",
   "language": "python",
   "name": "venv-kernel"
  },
  "language_info": {
   "codemirror_mode": {
    "name": "ipython",
    "version": 3
   },
   "file_extension": ".py",
   "mimetype": "text/x-python",
   "name": "python",
   "nbconvert_exporter": "python",
   "pygments_lexer": "ipython3",
   "version": "3.7.16"
  }
 },
 "nbformat": 4,
 "nbformat_minor": 5
}
