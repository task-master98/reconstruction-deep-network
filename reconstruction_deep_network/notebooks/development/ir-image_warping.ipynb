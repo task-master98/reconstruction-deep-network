{
 "cells": [
  {
   "cell_type": "markdown",
   "metadata": {},
   "source": [
    "## **Image Warping**\n",
    "This notebook will be used to explore the concept of image warping and thereby generate the dataset for MVDiffussion"
   ]
  },
  {
   "cell_type": "code",
   "execution_count": null,
   "metadata": {},
   "outputs": [],
   "source": [
    "import numpy as np\n",
    "import os\n",
    "import pandas as pd\n",
    "import cv2\n",
    "import scipy as sp\n",
    "import matplotlib.pyplot as plt\n",
    "import itertools\n",
    "import random\n",
    "import reconstruction_deep_network\n"
   ]
  },
  {
   "cell_type": "code",
   "execution_count": null,
   "metadata": {},
   "outputs": [],
   "source": [
    "seed = 0\n",
    "random.seed(seed)"
   ]
  },
  {
   "cell_type": "code",
   "execution_count": null,
   "metadata": {},
   "outputs": [],
   "source": [
    "module_dir = reconstruction_deep_network.__path__[0]\n",
    "root_dir = os.path.dirname(module_dir)\n",
    "scans_dir = \"data/v1/scans/17DRP5sb8fy\"\n",
    "skybox_img_dir = os.path.join(root_dir, scans_dir, \"matterport_skybox_images\")"
   ]
  },
  {
   "cell_type": "code",
   "execution_count": null,
   "metadata": {},
   "outputs": [],
   "source": [
    "vx = [-90, 270, 0, 90, 180, -90]\n",
    "vy = [90, 0, 0, 0, 0, -90]\n",
    "fov = 90\n",
    "rot = 45\n",
    "resolution = 512\n",
    "crop_size = 512"
   ]
  },
  {
   "cell_type": "code",
   "execution_count": null,
   "metadata": {},
   "outputs": [],
   "source": [
    "def load_skybox_image(img_name: str, index: int):\n",
    "    img_name = f\"{img_name}_skybox{index}_sami.jpg\"\n",
    "    img_path = os.path.join(skybox_img_dir, img_name)\n",
    "    img = cv2.imread(img_path)\n",
    "    return img\n",
    "\n",
    "def load_skybox_images(img_name):\n",
    "    skybox_indices = list(range(6))\n",
    "    images = []\n",
    "    for idx in skybox_indices:\n",
    "        img = load_skybox_image(img_name, idx)\n",
    "        images.append(img)\n",
    "    \n",
    "    return images\n",
    "\n",
    "def get_K_R(FOV, THETA, PHI, height, width):\n",
    "    f = 0.5 * width * 1 / np.tan(0.5 * FOV / 180.0 * np.pi)\n",
    "    cx = (width - 1) / 2.0\n",
    "    cy = (height - 1) / 2.0\n",
    "    K = np.array([\n",
    "        [f, 0, cx],\n",
    "        [0, f, cy],\n",
    "        [0, 0,  1],\n",
    "    ], np.float32)\n",
    "\n",
    "    y_axis = np.array([0.0, 1.0, 0.0], np.float32)\n",
    "    x_axis = np.array([1.0, 0.0, 0.0], np.float32)\n",
    "    R1, _ = cv2.Rodrigues(y_axis * np.radians(THETA))\n",
    "    R2, _ = cv2.Rodrigues(np.dot(R1, x_axis) * np.radians(PHI))\n",
    "    R = R2 @ R1\n",
    "    return K, R\n",
    "\n",
    "def warp_img(fov, theta, phi, images, vx, vy):\n",
    "    img_combine = np.zeros(images[0].shape).astype(np.uint8)\n",
    "\n",
    "    min_theta = 10000\n",
    "    for i, img in enumerate(images):\n",
    "        _theta = vx[i]-theta\n",
    "        _phi = vy[i]-phi\n",
    "\n",
    "        if i == 2 and theta > 270:\n",
    "            _theta = max(360-theta, _theta)\n",
    "        if _phi == 0 and np.absolute(_theta) > 90:\n",
    "            continue\n",
    "\n",
    "        if i > 0 and i < 5 and np.absolute(_theta) < min_theta:\n",
    "            min_theta = _theta\n",
    "            min_idx = i\n",
    "\n",
    "        im_h, im_w, _ = img.shape\n",
    "        K, R = get_K_R(fov, _theta, _phi, im_h, im_w)\n",
    "        homo_matrix = K@R@np.linalg.inv(K)\n",
    "        img_warp1 = cv2.warpPerspective(img, homo_matrix, (im_w, im_h))\n",
    "        if i == 0:\n",
    "            img_warp1[im_h//2:] = 0\n",
    "        elif i == 5:\n",
    "            img_warp1[:im_h//2] = 0\n",
    "\n",
    "        img_combine += img_warp1  # *255).astype(np.uint8)\n",
    "    return img_combine"
   ]
  },
  {
   "cell_type": "code",
   "execution_count": null,
   "metadata": {},
   "outputs": [],
   "source": [
    "imgs = []\n",
    "num_views = 8\n",
    "init_degree = 0\n",
    "images_raw = load_skybox_images(\"00ebbf3782c64d74aaf7dd39cd561175\")\n",
    "\n",
    "for i in range(num_views):\n",
    "    _degree = (init_degree+rot*i) % 360\n",
    "    print(f\"Degree: {_degree}\")\n",
    "    img = warp_img(\n",
    "                90, _degree, 0, images_raw, vx, vy)\n",
    "    img = cv2.resize(img, (resolution, resolution))\n",
    "\n",
    "    imgs.append(img)"
   ]
  },
  {
   "cell_type": "code",
   "execution_count": null,
   "metadata": {},
   "outputs": [],
   "source": [
    "fig, axs = plt.subplots(2, 3, figsize=(12, 5))\n",
    "combs = list(itertools.product(list(range(2)), list(range(3))))\n",
    "\n",
    "for itr, comb in enumerate(combs):\n",
    "    axs[comb].imshow(images_raw[itr])\n",
    "\n",
    "plt.show()"
   ]
  },
  {
   "cell_type": "code",
   "execution_count": null,
   "metadata": {},
   "outputs": [],
   "source": [
    "fig, axs = plt.subplots(2, 4, figsize=(12, 5))\n",
    "combs = list(itertools.product(list(range(2)), list(range(4))))\n",
    "\n",
    "for itr, comb in enumerate(combs):\n",
    "    axs[comb].imshow(imgs[itr])\n",
    "\n",
    "plt.show()\n"
   ]
  },
  {
   "cell_type": "markdown",
   "metadata": {},
   "source": [
    "## **Generate Text Prompts**"
   ]
  },
  {
   "cell_type": "code",
   "execution_count": null,
   "metadata": {},
   "outputs": [],
   "source": [
    "from transformers import Blip2Processor, Blip2Model\n",
    "import torch"
   ]
  },
  {
   "cell_type": "code",
   "execution_count": null,
   "metadata": {},
   "outputs": [],
   "source": [
    "# device = \"cuda\" if torch.cuda.is_available() else \"cpu\"\n",
    "# processor = Blip2Processor.from_pretrained(\"Salesforce/blip2-opt-2.7b\")\n",
    "# model = Blip2Model.from_pretrained(\"Salesforce/blip2-opt-2.7b\", torch_dtype=torch.float16)\n",
    "# model.to(device)"
   ]
  },
  {
   "cell_type": "markdown",
   "metadata": {},
   "source": [
    "## **Load Generated Text Prompts**"
   ]
  },
  {
   "cell_type": "code",
   "execution_count": null,
   "metadata": {},
   "outputs": [],
   "source": [
    "prompt_dir = os.path.join(root_dir, \"data/v1/prompts\")"
   ]
  },
  {
   "cell_type": "code",
   "execution_count": null,
   "metadata": {},
   "outputs": [],
   "source": [
    "def load_prompt(scand_id: str, img_name: str, rotation: int):\n",
    "    file_name = f\"{img_name}_{rotation}.txt\"\n",
    "    model = \"blip3\"\n",
    "    file_path = os.path.join(prompt_dir, scand_id, model, file_name)\n",
    "    with open(file_path, 'rb') as f:\n",
    "        prompt = f.readlines()[0]\n",
    "    return prompt"
   ]
  },
  {
   "cell_type": "code",
   "execution_count": null,
   "metadata": {},
   "outputs": [],
   "source": [
    "scan_id = \"17DRP5sb8fy\"\n",
    "img_name = \"00ebbf3782c64d74aaf7dd39cd561175\"\n",
    "rotations = [(init_degree+rot*i) % 360 for i in range(num_views)]\n",
    "\n",
    "prompt_list = []\n",
    "for rotation in rotations:\n",
    "    prompt = load_prompt(scan_id, img_name, rotation)\n",
    "    prompt_list.append(prompt)"
   ]
  },
  {
   "cell_type": "code",
   "execution_count": null,
   "metadata": {},
   "outputs": [],
   "source": [
    "prompt_list"
   ]
  },
  {
   "cell_type": "code",
   "execution_count": null,
   "metadata": {},
   "outputs": [],
   "source": []
  }
 ],
 "metadata": {
  "kernelspec": {
   "display_name": "reconstruction-deep-network-Kqq14QZk-py3.10",
   "language": "python",
   "name": "python3"
  },
  "language_info": {
   "codemirror_mode": {
    "name": "ipython",
    "version": 3
   },
   "file_extension": ".py",
   "mimetype": "text/x-python",
   "name": "python",
   "nbconvert_exporter": "python",
   "pygments_lexer": "ipython3",
   "version": "3.10.13"
  },
  "orig_nbformat": 4
 },
 "nbformat": 4,
 "nbformat_minor": 2
}
