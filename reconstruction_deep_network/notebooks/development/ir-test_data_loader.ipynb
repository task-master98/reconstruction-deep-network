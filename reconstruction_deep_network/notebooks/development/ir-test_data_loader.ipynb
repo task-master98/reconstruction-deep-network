{
 "cells": [
  {
   "cell_type": "markdown",
   "metadata": {},
   "source": [
    "## **Test DataLoader**\n",
    "This notebook will be used to test the custom datalaoder class developed. This is to understand the batching process and make improvements."
   ]
  },
  {
   "cell_type": "code",
   "execution_count": null,
   "metadata": {},
   "outputs": [],
   "source": [
    "import numpy as np\n",
    "import os\n",
    "import torch\n",
    "import matplotlib.pyplot as plt\n",
    "import itertools\n",
    "\n",
    "import reconstruction_deep_network\n",
    "from reconstruction_deep_network.data_loader.custom_loader import CustomDataLoader\n",
    "from reconstruction_deep_network.trainer.trainer import ModelTrainer"
   ]
  },
  {
   "cell_type": "code",
   "execution_count": null,
   "metadata": {},
   "outputs": [],
   "source": [
    "module_dir = reconstruction_deep_network.__path__[0]\n",
    "root_dir = os.path.dirname(module_dir)\n",
    "data_dir = os.path.join(root_dir, \"data\", \"v1\")\n",
    "embedding_dir = os.path.join(data_dir, \"text_embeddings\")\n",
    "img_encoding_dir = os.path.join(data_dir, \"image_latents\")\n",
    "if not os.path.isdir(img_encoding_dir):\n",
    "    os.makedirs(img_encoding_dir)\n"
   ]
  },
  {
   "cell_type": "code",
   "execution_count": null,
   "metadata": {},
   "outputs": [],
   "source": [
    "def save_image_encoding(img_encoding: torch.Tensor, scan_id: str, img_name: str):\n",
    "    dir_name = os.path.join(img_encoding_dir, scan_id)\n",
    "    if not os.path.isdir(dir_name):\n",
    "        os.makedirs(dir_name)\n",
    "    \n",
    "    file_name = os.path.join(dir_name, f\"{img_name}.npz\")\n",
    "    np_tensor = img_encoding.numpy()\n",
    "    np.savez(file_name, latent = np_tensor)\n",
    "    print(\"File saved\")\n",
    "\n",
    "def save_prompt_embedding(embedding_dict, file_name: str):\n",
    "    pass\n",
    "    \n",
    "    "
   ]
  },
  {
   "cell_type": "code",
   "execution_count": null,
   "metadata": {},
   "outputs": [],
   "source": [
    "# initialize dataset\n",
    "data_loader = CustomDataLoader()"
   ]
  },
  {
   "cell_type": "code",
   "execution_count": null,
   "metadata": {},
   "outputs": [],
   "source": [
    "# item = data_loader[0]\n",
    "# prods = list(itertools.product(range(2), range(4)))\n",
    "# images = item[\"images\"]\n",
    "# prompts = item[\"prompt\"]\n",
    "# fig, axs = plt.subplots(nrows=2, ncols=4, figsize = (12, 5))\n",
    "# for itr, prod in enumerate(prods):\n",
    "#     print(prompts[itr])\n",
    "#     axs[prod].imshow(images[itr])\n",
    "#     # axs[prod].set_title(prompts[itr])\n",
    "\n",
    "# plt.show()"
   ]
  },
  {
   "cell_type": "code",
   "execution_count": null,
   "metadata": {},
   "outputs": [],
   "source": [
    "# item[\"images_paths\"]"
   ]
  },
  {
   "cell_type": "code",
   "execution_count": null,
   "metadata": {},
   "outputs": [],
   "source": [
    "train_loader = torch.utils.data.DataLoader(\n",
    "                    data_loader,\n",
    "                    batch_size = 1,\n",
    "                    shuffle = False,\n",
    "                    num_workers = 0,\n",
    "                    drop_last = True)"
   ]
  },
  {
   "cell_type": "code",
   "execution_count": null,
   "metadata": {},
   "outputs": [],
   "source": [
    "len(train_loader)"
   ]
  },
  {
   "cell_type": "code",
   "execution_count": null,
   "metadata": {},
   "outputs": [],
   "source": [
    "# for batch in train_loader:\n",
    "#     print(batch[\"images_paths\"])\n",
    "#     print(batch[\"images\"].shape)\n",
    "#     print(batch[\"prompt\"])\n",
    "#     break"
   ]
  },
  {
   "cell_type": "code",
   "execution_count": null,
   "metadata": {},
   "outputs": [],
   "source": [
    "batch[\"img_encoding\"].shape"
   ]
  },
  {
   "cell_type": "code",
   "execution_count": null,
   "metadata": {},
   "outputs": [],
   "source": [
    "latents.shape"
   ]
  },
  {
   "cell_type": "code",
   "execution_count": null,
   "metadata": {},
   "outputs": [],
   "source": [
    "# scan_id = \"17DRP5sb8fy\"\n",
    "# img_name = \"00ebbf3782c64d74aaf7dd39cd561175\"\n",
    "# save_image_encoding(latents, scan_id, img_name)"
   ]
  },
  {
   "cell_type": "code",
   "execution_count": null,
   "metadata": {},
   "outputs": [],
   "source": [
    "model_trainer = ModelTrainer()\n",
    "null_prompts = \"\"\n",
    "\n",
    "prompt_embedding = model_trainer.encode_text(null_prompts, \"cpu\")"
   ]
  },
  {
   "cell_type": "code",
   "execution_count": null,
   "metadata": {},
   "outputs": [],
   "source": [
    "embeddings_dict = {}\n",
    "\n",
    "x, y = prompt_embedding\n",
    "print(f\"Embedding shapes: {x.shape}, {y.shape}\")\n",
    "embeddings_dict[\"null\"] = {'embeddings_1': x.cpu().numpy(), 'embeddings_2': y.cpu().numpy()}"
   ]
  },
  {
   "cell_type": "code",
   "execution_count": null,
   "metadata": {},
   "outputs": [],
   "source": [
    "#save null prompt\n",
    "dir_path = os.path.join(embedding_dir, \"null\")\n",
    "if not os.path.isdir(dir_path):\n",
    "    os.makedirs(dir_path)\n",
    "\n",
    "file_name = os.path.join(embedding_dir, \"null\", \"null.npz\")\n",
    "np.savez(file_name, **embeddings_dict)"
   ]
  },
  {
   "cell_type": "code",
   "execution_count": null,
   "metadata": {},
   "outputs": [],
   "source": [
    "prompt_embedding[0].shape"
   ]
  },
  {
   "cell_type": "code",
   "execution_count": null,
   "metadata": {},
   "outputs": [],
   "source": []
  }
 ],
 "metadata": {
  "kernelspec": {
   "display_name": "reconstruction-deep-network-Kqq14QZk-py3.10",
   "language": "python",
   "name": "python3"
  },
  "language_info": {
   "codemirror_mode": {
    "name": "ipython",
    "version": 3
   },
   "file_extension": ".py",
   "mimetype": "text/x-python",
   "name": "python",
   "nbconvert_exporter": "python",
   "pygments_lexer": "ipython3",
   "version": "3.10.13"
  },
  "orig_nbformat": 4
 },
 "nbformat": 4,
 "nbformat_minor": 2
}
