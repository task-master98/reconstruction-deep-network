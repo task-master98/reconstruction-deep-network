{
 "cells": [
  {
   "cell_type": "markdown",
   "metadata": {},
   "source": [
    "## **Dataset Exploration**\n",
    "This notebook will be used to explore the NYU v2 dataset and analyze the same. This is only for visualization purposes for each data type. Dataset statistics may not be a part of this."
   ]
  },
  {
   "cell_type": "markdown",
   "metadata": {},
   "source": [
    "### **Import Libraries**"
   ]
  },
  {
   "cell_type": "code",
   "execution_count": null,
   "metadata": {},
   "outputs": [],
   "source": [
    "import numpy as np\n",
    "import pandas as pd\n",
    "import scipy as sp\n",
    "import open3d as o3d\n",
    "\n",
    "import plotly.graph_objs as go\n",
    "import matplotlib.pyplot as plt\n",
    "\n",
    "import os"
   ]
  },
  {
   "cell_type": "markdown",
   "metadata": {},
   "source": [
    "### **Globals**"
   ]
  },
  {
   "cell_type": "code",
   "execution_count": null,
   "metadata": {},
   "outputs": [],
   "source": [
    "dataset_name = \"NYUv2\"\n",
    "_parent_data_dir = os.path.join(os.getcwd(), \"data\")\n",
    "_dataset_dir = os.path.join(_parent_data_dir, dataset_name)\n",
    "\n",
    "_depth_dir = os.path.join(_dataset_dir, \"depth\")\n",
    "_image_dir = os.path.join(_dataset_dir, \"image\")\n",
    "_label_dir = os.path.join(_dataset_dir, \"label\")\n",
    "_normal_dir = os.path.join(_dataset_dir, \"normal\")"
   ]
  },
  {
   "cell_type": "markdown",
   "metadata": {},
   "source": [
    "## **Utilities Methods**"
   ]
  },
  {
   "cell_type": "code",
   "execution_count": null,
   "metadata": {},
   "outputs": [],
   "source": [
    "def load_npy_data(file_path: str):\n",
    "    x_matrix = np.load(file_path)\n",
    "    \n",
    "    return x_matrix\n",
    "\n",
    "def get_depth_data(data_index: int):\n",
    "    path = os.path.join(_depth_dir, f\"{data_index}.npy\")\n",
    "    return load_npy_data(path)\n",
    "\n",
    "def get_image_data(data_index: int):\n",
    "    path = os.path.join(_image_dir, f\"{data_index}.npy\")\n",
    "    return load_npy_data(path)\n",
    "\n",
    "def get_label_data(data_index: int):\n",
    "    path = os.path.join(_label_dir, f\"{data_index}.npy\")\n",
    "    return load_npy_data(path)\n",
    "\n",
    "def get_normal_data(data_index: int):\n",
    "    path = os.path.join(_normal_dir, f\"{data_index}.npy\")\n",
    "    return load_npy_data(path)\n",
    "\n",
    "def convert_depth_to_pointcloud(img_matrix, depth_matrix):\n",
    "\n",
    "    img = o3d.geometry.Image((img_matrix * 255).astype(np.uint8))\n",
    "    depth = o3d.geometry.Image((depth_matrix * 255).astype(np.uint8))\n",
    "\n",
    "    rgbd = o3d.geometry.RGBDImage.create_from_color_and_depth(img, depth, convert_rgb_to_intensity = False)\n",
    "    pinhole_camera_intrinsic = o3d.camera.PinholeCameraIntrinsic(\n",
    "        o3d.camera.PinholeCameraIntrinsicParameters.PrimeSenseDefault)\n",
    "    pcd = o3d.geometry.PointCloud.create_from_rgbd_image(rgbd, pinhole_camera_intrinsic)\n",
    "    pcd.transform([[1, 0, 0, 0], [0, -1, 0, 0], [0, 0, -1, 0], [0, 0, 0, 1]])\n",
    "    o3d.visualization.draw_geometries([pcd])\n"
   ]
  },
  {
   "cell_type": "code",
   "execution_count": null,
   "metadata": {},
   "outputs": [],
   "source": [
    "## depth data\n",
    "depth_matrix = get_depth_data(0)\n",
    "\n",
    "## image data\n",
    "img_matrix = get_image_data(0)\n",
    "\n",
    "## label data\n",
    "label_matrix = get_label_data(0)\n",
    "\n",
    "## normal data\n",
    "normal_data = get_normal_data(0)\n",
    "\n",
    "data_tuple = [depth_matrix, img_matrix, label_matrix, normal_data]\n",
    "type_tuple = [\"depth\", \"image\", \"label\", \"normal\"]\n",
    "\n",
    "for itr, data_type in enumerate(data_tuple):\n",
    "    type_name = type_tuple[itr]\n",
    "    print(f\"{type_name} : {data_type.shape}\")\n",
    "\n"
   ]
  },
  {
   "cell_type": "code",
   "execution_count": null,
   "metadata": {},
   "outputs": [],
   "source": [
    "plt.figure(figsize=(7, 7))\n",
    "\n",
    "plt.subplot(2, 2, 1)\n",
    "plt.imshow(img_matrix)\n",
    "plt.title(\"Image\")\n",
    "\n",
    "plt.subplot(2, 2, 2)\n",
    "plt.imshow(depth_matrix)\n",
    "plt.title(\"Depth\")\n",
    "\n",
    "plt.subplot(2, 2, 3)\n",
    "plt.imshow(label_matrix)\n",
    "plt.title(\"Label\")\n",
    "\n",
    "plt.subplot(2, 2, 4)\n",
    "plt.imshow(normal_data)\n",
    "plt.title(\"Normal\")\n",
    "\n",
    "plt.tight_layout()\n",
    "plt.show()"
   ]
  },
  {
   "cell_type": "code",
   "execution_count": null,
   "metadata": {},
   "outputs": [],
   "source": [
    "convert_depth_to_pointcloud(img_matrix, depth_matrix)"
   ]
  },
  {
   "cell_type": "code",
   "execution_count": null,
   "metadata": {},
   "outputs": [],
   "source": []
  }
 ],
 "metadata": {
  "kernelspec": {
   "display_name": "reconstruction-deep-network-Kqq14QZk-py3.11",
   "language": "python",
   "name": "python3"
  },
  "language_info": {
   "codemirror_mode": {
    "name": "ipython",
    "version": 3
   },
   "file_extension": ".py",
   "mimetype": "text/x-python",
   "name": "python",
   "nbconvert_exporter": "python",
   "pygments_lexer": "ipython3",
   "version": "3.10.13"
  },
  "orig_nbformat": 4
 },
 "nbformat": 4,
 "nbformat_minor": 2
}
